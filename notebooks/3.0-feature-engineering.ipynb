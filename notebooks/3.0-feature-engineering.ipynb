{
 "cells": [
  {
   "cell_type": "markdown",
   "id": "d6ac3237",
   "metadata": {},
   "source": [
    "Load data"
   ]
  },
  {
   "cell_type": "code",
   "execution_count": null,
   "id": "6623f068",
   "metadata": {
    "vscode": {
     "languageId": "plaintext"
    }
   },
   "outputs": [],
   "source": []
  },
  {
   "cell_type": "markdown",
   "id": "c94b5dd3",
   "metadata": {},
   "source": [
    "Apply Time-Based Features"
   ]
  },
  {
   "cell_type": "markdown",
   "id": "bd0c7993",
   "metadata": {},
   "source": [
    "Aggregate Features per Customerid"
   ]
  },
  {
   "cell_type": "markdown",
   "id": "971274bf",
   "metadata": {},
   "source": [
    "Encode and Scale"
   ]
  },
  {
   "cell_type": "markdown",
   "id": "5a8bf175",
   "metadata": {},
   "source": []
  }
 ],
 "metadata": {
  "language_info": {
   "name": "python"
  }
 },
 "nbformat": 4,
 "nbformat_minor": 5
}
