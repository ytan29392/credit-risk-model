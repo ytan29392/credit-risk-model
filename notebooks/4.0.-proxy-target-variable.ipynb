{
 "cells": [
  {
   "cell_type": "markdown",
   "id": "97e3301f",
   "metadata": {},
   "source": [
    "Import"
   ]
  },
  {
   "cell_type": "code",
   "execution_count": 3,
   "id": "a188846b",
   "metadata": {},
   "outputs": [],
   "source": [
    "import pandas as pd\n",
    "from sklearn.cluster import KMeans\n",
    "from sklearn.preprocessing import StandardScaler\n",
    "\n",
    "df = pd.read_csv(\"../data/raw/data.csv\")\n",
    "\n",
    "df[\"TransactionStartTime\"] = pd.to_datetime(df[\"TransactionStartTime\"])\n",
    "\n",
    "snapshot_date = df[\"TransactionStartTime\"].max() + pd.Timedelta(days=1)"
   ]
  },
  {
   "cell_type": "markdown",
   "id": "25916ef7",
   "metadata": {},
   "source": [
    "RFM and Clustering"
   ]
  },
  {
   "cell_type": "code",
   "execution_count": 4,
   "id": "99bf498b",
   "metadata": {},
   "outputs": [
    {
     "data": {
      "text/plain": [
       "CustomerId       is_high_risk\n",
       "CustomerId_1     1               1\n",
       "CustomerId_4310  1               1\n",
       "CustomerId_4294  0               1\n",
       "CustomerId_4297  0               1\n",
       "CustomerId_4298  0               1\n",
       "                                ..\n",
       "CustomerId_2760  1               1\n",
       "CustomerId_2761  0               1\n",
       "CustomerId_2762  1               1\n",
       "CustomerId_2764  0               1\n",
       "CustomerId_998   0               1\n",
       "Name: count, Length: 3742, dtype: int64"
      ]
     },
     "execution_count": 4,
     "metadata": {},
     "output_type": "execute_result"
    }
   ],
   "source": [
    "rfm = df.groupby(\"CustomerId\").agg({\n",
    "    \"TransactionStartTime\": lambda x: (snapshot_date - x.max()).days,\n",
    "    \"TransactionId\": \"count\",\n",
    "    \"Amount\": \"sum\"\n",
    "}).rename(columns={\"TransactionStartTime\": \"Recency\", \"TransactionId\": \"Frequency\", \"Amount\": \"Monetary\"}).reset_index()\n",
    "\n",
    "scaler = StandardScaler()\n",
    "rfm_scaled = scaler.fit_transform(rfm[[\"Recency\", \"Frequency\", \"Monetary\"]])\n",
    "\n",
    "kmeans = KMeans(n_clusters=3, random_state=42)\n",
    "rfm[\"Cluster\"] = kmeans.fit_predict(rfm_scaled)\n",
    "\n",
    "high_risk_cluster = rfm.groupby(\"Cluster\")[[\"Recency\", \"Frequency\", \"Monetary\"]].mean().sort_values(\"Frequency\").index[0]\n",
    "rfm[\"is_high_risk\"] = (rfm[\"Cluster\"] == high_risk_cluster).astype(int)\n",
    "\n",
    "rfm[[\"CustomerId\", \"is_high_risk\"]].value_counts()"
   ]
  },
  {
   "cell_type": "markdown",
   "id": "970f6add",
   "metadata": {},
   "source": [
    "Merge with main data"
   ]
  },
  {
   "cell_type": "code",
   "execution_count": 5,
   "id": "9d52d2bf",
   "metadata": {},
   "outputs": [],
   "source": [
    "df = df.merge(rfm[[\"CustomerId\", \"is_high_risk\"]], on=\"CustomerId\", how=\"left\")\n",
    "df.to_csv(\"../data/processed/labeled_data.csv\", index=False)"
   ]
  }
 ],
 "metadata": {
  "kernelspec": {
   "display_name": "venv",
   "language": "python",
   "name": "python3"
  },
  "language_info": {
   "codemirror_mode": {
    "name": "ipython",
    "version": 3
   },
   "file_extension": ".py",
   "mimetype": "text/x-python",
   "name": "python",
   "nbconvert_exporter": "python",
   "pygments_lexer": "ipython3",
   "version": "3.11.9"
  }
 },
 "nbformat": 4,
 "nbformat_minor": 5
}
