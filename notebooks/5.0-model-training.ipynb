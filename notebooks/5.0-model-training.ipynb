{
 "cells": [
  {
   "cell_type": "markdown",
   "id": "aad563b7",
   "metadata": {},
   "source": [
    "Load data"
   ]
  },
  {
   "cell_type": "code",
   "execution_count": null,
   "id": "3489f6a3",
   "metadata": {},
   "outputs": [],
   "source": [
    "import pandas as pd\n",
    "from sklearn.model_selection import train_test_split"
   ]
  },
  {
   "cell_type": "markdown",
   "id": "770aa604",
   "metadata": {},
   "source": [
    "Split "
   ]
  },
  {
   "cell_type": "code",
   "execution_count": null,
   "id": "bcfd746b",
   "metadata": {},
   "outputs": [],
   "source": [
    "df = pd.read_csv(\"../data/processed/labeled_data.csv\")\n",
    "X = df.drop(columns=[\"CustomerId\", \"is_high_risk\", \"TransactionStartTime\", \"TransactionId\"])\n",
    "y = df[\"is_high_risk\"]\n",
    "X_train, X_test, y_train, y_test = train_test_split(X, y, test_size=0.2, random_state=42)"
   ]
  },
  {
   "cell_type": "markdown",
   "id": "aa5c1d93",
   "metadata": {},
   "source": [
    "Training Models"
   ]
  },
  {
   "cell_type": "code",
   "execution_count": null,
   "id": "cddc25dc",
   "metadata": {},
   "outputs": [],
   "source": [
    "from sklearn.linear_model import LogisticRegression\n",
    "from sklearn.ensemble import RandomForestClassifier\n",
    "\n",
    "lr = LogisticRegression(max_iter=1000)\n",
    "rf = RandomForestClassifier(n_estimators=100, max_depth=5)\n",
    "\n",
    "lr.fit(X_train, y_train)\n",
    "rf.fit(X_train, y_train)"
   ]
  },
  {
   "cell_type": "markdown",
   "id": "0dd827d6",
   "metadata": {},
   "source": [
    "Evaluate"
   ]
  },
  {
   "cell_type": "code",
   "execution_count": null,
   "id": "c00e310b",
   "metadata": {},
   "outputs": [],
   "source": [
    "from sklearn.metrics import classification_report, roc_auc_score\n",
    "\n",
    "for name, model in [(\"Logistic Regression\", lr), (\"Random Forest\", rf)]:\n",
    "    y_pred = model.predict(X_test)\n",
    "    y_prob = model.predict_proba(X_test)[:, 1]\n",
    "    print(f\"=== {name} ===\")\n",
    "    print(classification_report(y_test, y_pred))\n",
    "    print(\"ROC-AUC:\", roc_auc_score(y_test, y_prob))"
   ]
  }
 ],
 "metadata": {
  "kernelspec": {
   "display_name": "venv",
   "language": "python",
   "name": "python3"
  },
  "language_info": {
   "name": "python",
   "version": "3.11.9"
  }
 },
 "nbformat": 4,
 "nbformat_minor": 5
}
